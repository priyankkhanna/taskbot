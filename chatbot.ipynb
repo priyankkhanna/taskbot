{
 "cells": [
  {
   "cell_type": "markdown",
   "id": "fba822f3",
   "metadata": {},
   "source": [
    "### Set Up"
   ]
  },
  {
   "cell_type": "code",
   "execution_count": 3,
   "id": "164c4618-77a2-40d6-9bba-87062ceac496",
   "metadata": {},
   "outputs": [],
   "source": [
    "#pip install -r requirements.txt "
   ]
  },
  {
   "cell_type": "code",
   "execution_count": 5,
   "id": "de9ace38",
   "metadata": {},
   "outputs": [],
   "source": [
    "#pip install torch"
   ]
  },
  {
   "cell_type": "code",
   "execution_count": 1,
   "id": "5a08973a",
   "metadata": {},
   "outputs": [],
   "source": [
    "import os"
   ]
  },
  {
   "cell_type": "code",
   "execution_count": null,
   "id": "2a62ddfe",
   "metadata": {},
   "outputs": [],
   "source": []
  },
  {
   "cell_type": "code",
   "execution_count": 2,
   "id": "5e2fe271",
   "metadata": {},
   "outputs": [],
   "source": [
    "#FAQ dependency\n",
    "import numpy as np\n",
    "import nltk\n",
    "from nltk.stem.porter import PorterStemmer\n",
    "import random\n",
    "import json\n",
    "import torch\n",
    "from dialogue_model.model import NeuralNet\n",
    "from dialogue_model.nltk_utils import *"
   ]
  },
  {
   "cell_type": "code",
   "execution_count": 3,
   "id": "c745d385-8bc8-47c1-bcc3-840ee5a49a0e",
   "metadata": {
    "scrolled": true
   },
   "outputs": [],
   "source": [
    "#Development dependency\n",
    "import wolframalpha\n",
    "import wikipedia #works as an encyclopidia and nothing else\n",
    "\n",
    "import getpass\n",
    "import logging\n",
    "\n",
    "from selenium.webdriver.common.keys import Keys\n",
    "from selenium.webdriver.common.action_chains import ActionChains\n",
    "from selenium.webdriver.chrome.service import Service\n",
    "from selenium import webdriver\n",
    "from selenium.webdriver.common.by import By\n",
    "import time\n",
    "\n",
    "\n",
    "import smtplib\n",
    "from email.mime.multipart import MIMEMultipart\n",
    "from email.mime.text import MIMEText"
   ]
  },
  {
   "cell_type": "code",
   "execution_count": 4,
   "id": "3adc6019",
   "metadata": {},
   "outputs": [],
   "source": [
    "# WebDriver for selenium dependency\n",
    "from webdriver_manager.chrome import ChromeDriverManager\n",
    "chrome_driver = ChromeDriverManager().install()"
   ]
  },
  {
   "cell_type": "code",
   "execution_count": 5,
   "id": "f3853d93",
   "metadata": {},
   "outputs": [
    {
     "name": "stderr",
     "output_type": "stream",
     "text": [
      "[nltk_data] Downloading package punkt to\n",
      "[nltk_data]     C:\\Users\\priya\\AppData\\Roaming\\nltk_data...\n",
      "[nltk_data]   Package punkt is already up-to-date!\n"
     ]
    },
    {
     "data": {
      "text/plain": [
       "True"
      ]
     },
     "execution_count": 5,
     "metadata": {},
     "output_type": "execute_result"
    }
   ],
   "source": [
    "nltk.download('punkt')"
   ]
  },
  {
   "cell_type": "code",
   "execution_count": 6,
   "id": "6dbb1a1d",
   "metadata": {},
   "outputs": [],
   "source": [
    "stemmer = PorterStemmer()"
   ]
  },
  {
   "cell_type": "code",
   "execution_count": 7,
   "id": "94e4a1e6",
   "metadata": {},
   "outputs": [],
   "source": [
    "device = torch.device('cuda' if torch.cuda.is_available() else 'cpu')"
   ]
  },
  {
   "cell_type": "markdown",
   "id": "6cfe7c3b",
   "metadata": {},
   "source": [
    "### FAQ"
   ]
  },
  {
   "cell_type": "code",
   "execution_count": null,
   "id": "16bd8dda",
   "metadata": {},
   "outputs": [],
   "source": []
  },
  {
   "cell_type": "code",
   "execution_count": 8,
   "id": "5c327e0c",
   "metadata": {},
   "outputs": [],
   "source": [
    "class ChatBot:\n",
    "    def __init__(self):\n",
    "        self.bot_name = \"PAR\"\n",
    "        self.model = None\n",
    "        self.tags = None\n",
    "        self.intents = None\n",
    "        self.all_words = None\n",
    "\n",
    "    def load_model(self):\n",
    "        with open('dialogue_model/intents.json', 'r') as json_data:\n",
    "            self.intents = json.load(json_data)\n",
    "\n",
    "        FILE = \"dialogue_model/data.pth\"\n",
    "        data = torch.load(FILE)\n",
    "\n",
    "        input_size = data[\"input_size\"]\n",
    "        hidden_size = data[\"hidden_size\"]\n",
    "        output_size = data[\"output_size\"]\n",
    "        self.all_words = data['all_words']\n",
    "        self.tags = data['tags']\n",
    "        model_state = data[\"model_state\"]\n",
    "\n",
    "        self.model = NeuralNet(input_size, hidden_size, output_size).to(device)\n",
    "        self.model.load_state_dict(model_state)\n",
    "        self.model.eval()\n",
    "\n",
    "    def get_response(self, sentence):\n",
    "        sentence = tokenize(sentence)\n",
    "        X = bag_of_words(sentence, self.all_words)\n",
    "        X = X.reshape(1, X.shape[0])\n",
    "        X = torch.from_numpy(X).to(device)\n",
    "\n",
    "        output = self.model(X)\n",
    "        _, predicted = torch.max(output, dim=1)\n",
    "\n",
    "        tag = self.tags[predicted.item()]\n",
    "\n",
    "        probs = torch.softmax(output, dim=1)\n",
    "        prob = probs[0][predicted.item()]\n",
    "        if prob.item() > 0.75:\n",
    "            for intent in self.intents['intents']:\n",
    "                if tag == intent[\"tag\"]:\n",
    "                    return random.choice(intent['responses'])\n",
    "        else:\n",
    "            return \"I do not understand...\"\n",
    "\n",
    "    def run(self):\n",
    "        self.load_model()\n",
    "        print(\"Let's chat! (type 'quit' to exit)\")\n",
    "        while True:\n",
    "            sentence = input(\"You: \")\n",
    "            if sentence == \"quit\":\n",
    "                break\n",
    "\n",
    "            response = self.get_response(sentence)\n",
    "            print(f\"{self.bot_name}: {response}\")"
   ]
  },
  {
   "cell_type": "code",
   "execution_count": 9,
   "id": "112292c2",
   "metadata": {},
   "outputs": [],
   "source": [
    "# # Create an instance of the ChatBot class and run it\n",
    "bot = ChatBot()"
   ]
  },
  {
   "cell_type": "code",
   "execution_count": null,
   "id": "a897bcea",
   "metadata": {},
   "outputs": [],
   "source": []
  },
  {
   "cell_type": "code",
   "execution_count": null,
   "id": "e2ffe675",
   "metadata": {},
   "outputs": [],
   "source": []
  },
  {
   "cell_type": "markdown",
   "id": "5f7ec6bc-ce37-4629-821b-670ef83724fb",
   "metadata": {},
   "source": [
    "# searching using wolframalpha, wikipedia and google search"
   ]
  },
  {
   "cell_type": "code",
   "execution_count": 10,
   "id": "3066c290-1845-426a-9362-fad41e9bc226",
   "metadata": {},
   "outputs": [],
   "source": [
    "class Search:\n",
    "    def __init__(self):\n",
    "        self.driver = None\n",
    "        \n",
    "    def search_wolfram(self,statement):\n",
    "        self.driver = webdriver.Chrome(service=Service(chrome_driver))\n",
    "        self.driver.get(\"https://www.wolframalpha.com/\")\n",
    "        search_box = self.driver.find_element(By.CLASS_NAME,\"_i5f3\")\n",
    "        search_box.send_keys(statement)\n",
    "        search_box.send_keys(Keys.RETURN)\n",
    "\n",
    "    \n",
    "    def search_wikipedia(self,statement):\n",
    "        try:\n",
    "            result = wikipedia.summary(statement)\n",
    "            return result\n",
    "        except:\n",
    "            return \"not\"\n",
    "    \n",
    "    def search_google(self,statement):\n",
    "        self.driver = webdriver.Chrome(service=Service(chrome_driver))\n",
    "        self.driver.get(f\"https://www.google.com/search?q={statement.replace(' ','+')}\")"
   ]
  },
  {
   "cell_type": "code",
   "execution_count": 11,
   "id": "5a7c8f01-5ede-4e17-870d-25fe710ba6e7",
   "metadata": {},
   "outputs": [],
   "source": [
    "search = Search()"
   ]
  },
  {
   "cell_type": "code",
   "execution_count": null,
   "id": "b2758ac7",
   "metadata": {},
   "outputs": [],
   "source": []
  },
  {
   "cell_type": "code",
   "execution_count": null,
   "id": "97d24b0b",
   "metadata": {},
   "outputs": [],
   "source": []
  },
  {
   "cell_type": "code",
   "execution_count": null,
   "id": "e15d04e9",
   "metadata": {},
   "outputs": [],
   "source": []
  },
  {
   "cell_type": "markdown",
   "id": "4ae1de30-437b-47f9-82c8-9d72aa1128c2",
   "metadata": {
    "tags": []
   },
   "source": [
    "# Linkedin"
   ]
  },
  {
   "cell_type": "code",
   "execution_count": 12,
   "id": "80480326-cdf8-4d96-af39-31c60797676c",
   "metadata": {},
   "outputs": [],
   "source": [
    "class LinkedIN:\n",
    "    def __init__(self,linkedin_mail,linkedin_password):\n",
    "        self.driver = webdriver.Chrome(service=Service(chrome_driver))\n",
    "        self.driver.get(\"https://www.linkedin.com/\")\n",
    "\n",
    "        # Wait for the page to load\n",
    "        time.sleep(2)\n",
    "\n",
    "        # Find the login form and enter your credentials\n",
    "        email_input = self.driver.find_element(By.ID,\"session_key\")\n",
    "        password_input = self.driver.find_element(By.ID,\"session_password\")\n",
    "        email_input.send_keys(linkedin_mail)  # Replace with your email\n",
    "        password_input.send_keys(linkedin_password)  # Replace with your password\n",
    "        password_input.send_keys(Keys.RETURN)\n",
    "\n",
    "        # Wait for the login to complete\n",
    "        time.sleep(2)\n",
    "        \n",
    "    def find_person(self,person):\n",
    "        #click search icon\n",
    "        \n",
    "        search_button = self.driver.find_element(By.XPATH,\"//button[starts-with(@class,'search-global-typeahead')]\")\n",
    "        self.driver.execute_script(\"arguments[0].click();\",search_button)\n",
    "        search = self.driver.find_element(By.CLASS_NAME,\"search-global-typeahead__input\")\n",
    "        search.send_keys(person)\n",
    "        search.send_keys(Keys.RETURN)  \n",
    "\n",
    "    def message_person_searched(self,message):\n",
    "        self.driver.find_element(By.CLASS_NAME,'entry-point').click()\n",
    "        message_button = self.driver.find_element(By.XPATH,\"//div[starts-with(@class,'msg-form__contenteditable')]\")\n",
    "        self.driver.execute_script(\"arguments[0].click();\",message_button)\n",
    "        p = self.driver.find_element(By.XPATH,\"//div[starts-with(@class,'msg-form__contenteditable')]/child::p\")\n",
    "        p.send_keys(message)\n",
    "        #p.send_keys(Keys.RETURN)\n",
    "        time.sleep(5)\n",
    "        submit_button = self.driver.find_element(By.XPATH,\"//button[starts-with(@class,'msg-form__send-button')]\")\n",
    "        self.driver.execute_script(\"arguments[0].click();\",submit_button)\n",
    "        \n",
    "        \n",
    "        \n",
    "def send_msg_linkedin():\n",
    "    linkedin_mail = input(\"Enter linkedin mail id: \")\n",
    "    linkedin_password = getpass.getpass('Write your password here: ')\n",
    "    linkedin = LinkedIN(linkedin_mail,linkedin_password)\n",
    "    person = input(\"enter the person name to search: \")\n",
    "    linkedin.find_person(person)\n",
    "    message = input(\"Enter message to send: \")\n",
    "    linkedin.message_person_searched(message)\n",
    "    print(\"message send successfully\")"
   ]
  },
  {
   "cell_type": "code",
   "execution_count": null,
   "id": "a16a0379-6505-4c60-8656-354862a0c84c",
   "metadata": {},
   "outputs": [],
   "source": []
  },
  {
   "cell_type": "code",
   "execution_count": null,
   "id": "53fb2b91-bb3f-4344-abe7-bda3ad1c374c",
   "metadata": {},
   "outputs": [],
   "source": []
  },
  {
   "cell_type": "code",
   "execution_count": null,
   "id": "b4c738b6-6505-4062-bdaf-9e986a22f80b",
   "metadata": {},
   "outputs": [],
   "source": []
  },
  {
   "cell_type": "code",
   "execution_count": null,
   "id": "b05ae4b4-efad-47a2-b058-5a2e236db882",
   "metadata": {},
   "outputs": [],
   "source": []
  },
  {
   "cell_type": "markdown",
   "id": "c9aa8e2c-b172-4c9d-bbac-eddefca79b04",
   "metadata": {},
   "source": [
    "## Gmail creation and send"
   ]
  },
  {
   "cell_type": "code",
   "execution_count": null,
   "id": "2a2f3d8c-6217-4bbe-a0fb-dd49a90b4a48",
   "metadata": {},
   "outputs": [],
   "source": []
  },
  {
   "cell_type": "code",
   "execution_count": 13,
   "id": "7bd9a415-0e94-45d4-b588-c559398e869b",
   "metadata": {},
   "outputs": [],
   "source": [
    "class EmailSender:\n",
    "    def __init__(self, smtp_server, smtp_port, smtp_username, smtp_password):\n",
    "        self.smtp_server = smtp_server\n",
    "        self.smtp_port = smtp_port\n",
    "        self.smtp_username = smtp_username\n",
    "        self.smtp_password = smtp_password\n",
    "\n",
    "    def send_email(self, from_email, to_email, subject, body):\n",
    "        # Create MIMEMultipart object\n",
    "        msg = MIMEMultipart()\n",
    "        msg['From'] = from_email\n",
    "        msg['To'] = to_email\n",
    "        msg['Subject'] = subject\n",
    "\n",
    "        # Add email body as plain text\n",
    "        msg.attach(MIMEText(body, 'plain'))\n",
    "\n",
    "        # Create SMTP connection\n",
    "        smtp_conn = smtplib.SMTP(self.smtp_server, self.smtp_port)\n",
    "        smtp_conn.ehlo()\n",
    "        smtp_conn.starttls()\n",
    "        smtp_conn.login(self.smtp_username, self.smtp_password)\n",
    "\n",
    "        # Send email\n",
    "        smtp_conn.sendmail(from_email, to_email, msg.as_string())\n",
    "\n",
    "        # Close SMTP connection\n",
    "        smtp_conn.quit()\n",
    "\n",
    "        \n",
    "def send_mail():\n",
    "    smtp_server = 'smtp.gmail.com'\n",
    "    smtp_port = 587 \n",
    "    smtp_username = input(\"enter mail id. Make sure less secure app access is on in this id: \")  # Your email address\n",
    "    smtp_password = getpass.getpass('Write your password here:')  #Your email password\n",
    "\n",
    "    from_email = smtp_username  # Sender email address\n",
    "    to_email = input('tell recipient mail. Seperate by comma if many')  # Recipient email address\n",
    "    subject = input('type subject of mail')  # Email subject\n",
    "    body = input('type body of mail')  # Email body\n",
    "\n",
    "    email_sender = EmailSender(smtp_server, smtp_port, smtp_username, smtp_password)\n",
    "    email_sender.send_email(from_email, to_email, subject, body)\n",
    "\n",
    "    print('mail sent successfully')"
   ]
  },
  {
   "cell_type": "code",
   "execution_count": null,
   "id": "84471e75",
   "metadata": {},
   "outputs": [],
   "source": []
  },
  {
   "cell_type": "code",
   "execution_count": null,
   "id": "eac1d298",
   "metadata": {},
   "outputs": [],
   "source": []
  },
  {
   "cell_type": "code",
   "execution_count": null,
   "id": "931af156",
   "metadata": {},
   "outputs": [],
   "source": []
  },
  {
   "cell_type": "markdown",
   "id": "1b9a4aa7",
   "metadata": {},
   "source": [
    "### Chat Face"
   ]
  },
  {
   "cell_type": "code",
   "execution_count": null,
   "id": "84c4436c",
   "metadata": {},
   "outputs": [],
   "source": []
  },
  {
   "cell_type": "code",
   "execution_count": 14,
   "id": "d7e5ba3b",
   "metadata": {},
   "outputs": [],
   "source": [
    "def query(config):\n",
    "    if config == \"FAQ\":\n",
    "        bot.run()\n",
    "    elif config == \"Ask a mathematical question\":\n",
    "        statement = input(\"Provide the equation / question:- \")\n",
    "        search.search_wolfram(statement)\n",
    "    elif config == \"Mail\":\n",
    "        send_mail()\n",
    "    elif config == \"Search for a person in Linkedin\":\n",
    "        send_msg_linkedin()\n",
    "    elif config == \"search online\":\n",
    "        statement = input(\"Provide your query:- \")\n",
    "        result = search.search_wikipedia(statement)\n",
    "        if result == \"not\":\n",
    "            search.search_google(statement)\n",
    "        else:\n",
    "            print('Found a result in local wikipedia')\n",
    "            print(result)\n",
    "        "
   ]
  },
  {
   "cell_type": "code",
   "execution_count": null,
   "id": "3b5dac6c",
   "metadata": {
    "scrolled": true
   },
   "outputs": [],
   "source": [
    "import tkinter as tk\n",
    "\n",
    "def on_option_selected(*args):\n",
    "    # This function will be called every time the selected option changes\n",
    "    config = var.get()\n",
    "    print(\"Selected option:\", config)\n",
    "    time.sleep(1)\n",
    "    window.destroy()  # Close the window and exit the code\n",
    "    try:\n",
    "        query(config)\n",
    "    except Exception as e:\n",
    "        # Catch the error and print the error message\n",
    "        print(\"An error occurred:\", e)\n",
    "\n",
    "\n",
    "\n",
    "def on_window_close():\n",
    "    global running\n",
    "    running = False\n",
    "    window.destroy()\n",
    "\n",
    "\n",
    "running = True\n",
    "while running:\n",
    "    # Create a window and a variable to store the selected option\n",
    "    window = tk.Tk()\n",
    "    var = tk.StringVar()\n",
    "\n",
    "    # Set the initial value of the variable and bind the on_option_selected function\n",
    "    var.set(\"FAQ\")\n",
    "    var.trace(\"w\", on_option_selected)\n",
    "\n",
    "    # Create a dropdown menu with the options\n",
    "    option_menu = tk.OptionMenu(window, var, \"FAQ\", \"Ask a mathematical question\", \"Mail\",\"Search for a person in Linkedin\", \"search online\")\n",
    "    option_menu.pack()\n",
    "\n",
    "    # Bind the WM_DELETE_WINDOW event to the window object\n",
    "    window.protocol(\"WM_DELETE_WINDOW\", on_window_close)\n",
    "\n",
    "    # Start the main loop\n",
    "    \n",
    "    window.mainloop()\n"
   ]
  },
  {
   "cell_type": "code",
   "execution_count": null,
   "id": "03784a70",
   "metadata": {},
   "outputs": [],
   "source": []
  }
 ],
 "metadata": {
  "kernelspec": {
   "display_name": "Python 3 (ipykernel)",
   "language": "python",
   "name": "python3"
  },
  "language_info": {
   "codemirror_mode": {
    "name": "ipython",
    "version": 3
   },
   "file_extension": ".py",
   "mimetype": "text/x-python",
   "name": "python",
   "nbconvert_exporter": "python",
   "pygments_lexer": "ipython3",
   "version": "3.8.15"
  }
 },
 "nbformat": 4,
 "nbformat_minor": 5
}
